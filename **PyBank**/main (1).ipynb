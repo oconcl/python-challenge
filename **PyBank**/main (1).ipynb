{
 "cells": [
  {
   "cell_type": "code",
   "execution_count": 89,
   "metadata": {},
   "outputs": [],
   "source": [
    "import csv #import csv library so we can parse the CSV file\n",
    "\n",
    "dates = [] \n",
    "profits_and_losses = [] \n"
   ]
  },
  {
   "cell_type": "code",
   "execution_count": 91,
   "metadata": {},
   "outputs": [],
   "source": [
    "with open('budget_data.csv', newline='') as budget_data: \n",
    "    budget_reader = csv.DictReader(budget_data) \n",
    "    for row in budget_reader:\n",
    "        dates.append(row['Date']) \n",
    "        profits_and_losses.append(int(row['Profit/Losses']))"
   ]
  },
  {
   "cell_type": "code",
   "execution_count": 79,
   "metadata": {},
   "outputs": [],
   "source": [
    "# define a function that calculates the number of entries in the data set and returns the value \n",
    "def total_months():\n",
    "    return len(dates)"
   ]
  },
  {
   "cell_type": "code",
   "execution_count": 65,
   "metadata": {},
   "outputs": [],
   "source": [
    "# define a function that calculates the net total amount of Profit/Losses in the data set and return the value\n",
    "def net_total():\n",
    "    sum_profits=sum(profits_and_losses)\n",
    "    return sum_profits"
   ]
  },
  {
   "cell_type": "code",
   "execution_count": 67,
   "metadata": {},
   "outputs": [],
   "source": [
    "# define a function that caluculates the average change in Profit/Losses in the data set and return the value, rounded to two decimal places\n",
    "change = [] #declare an empty list to hold the values of the Profit/Losses changes from month to month \n",
    "\n",
    "def avg_changes():\n",
    "    for value in profits_and_losses:\n",
    "        if value == profits_and_losses[0]: \n",
    "            x1 = value \n",
    "        elif value:\n",
    "            x2 = value \n",
    "            delta = x2 - x1 \n",
    "            change.append(delta) \n",
    "            x1 = x2 \n",
    "    return round((sum(change)/len(change)),2) "
   ]
  },
  {
   "cell_type": "code",
   "execution_count": 69,
   "metadata": {},
   "outputs": [],
   "source": [
    "# define a function that identifies the index of the element with the highest delta in change list and returns both the Date and Total that corresponds \n",
    "def greatest_increase_in_profits():\n",
    "    max_index = change.index(max(change)) \n",
    "    date = dates[max_index+1]\n",
    "    amount = max(change) \n",
    "    return [date, amount]\n"
   ]
  },
  {
   "cell_type": "code",
   "execution_count": 71,
   "metadata": {},
   "outputs": [],
   "source": [
    "# define a function that identifies the index of the element with the smallest delta in change list and returns both the Date and Total that corresponds \n",
    "def greatest_decrease_in_profits():\n",
    "    min_index = change.index(min(change)) \n",
    "    date = dates[min_index+1] \n",
    "    amount = min(change)\n",
    "    return [date, amount] \n"
   ]
  },
  {
   "cell_type": "code",
   "execution_count": 73,
   "metadata": {},
   "outputs": [],
   "source": [
    "#print the result per instructions\n",
    "def print_results():\n",
    "    print('Financial Analysis')\n",
    "    print('----------------------------')\n",
    "\n",
    "    print(f'Total Months: {total_months()}')\n",
    "    print(f'Total: ${net_total()}') \n",
    "    print(f'Average Change: ${avg_changes()}')\n",
    "    print(f'Greatest Increase in Profits: {greatest_increase_in_profits()[0]} (${greatest_increase_in_profits()[1]})')\n",
    "    print(f'Greatest Decrease in Profits: {greatest_decrease_in_profits()[0]} (${greatest_decrease_in_profits()[1]})')"
   ]
  },
  {
   "cell_type": "code",
   "execution_count": 81,
   "metadata": {},
   "outputs": [],
   "source": [
    "def write_results():\n",
    "    with open('PyBank_Results_Script.txt', 'w') as file: #open a file in write mode and write the desired output\n",
    "        file.write('Financial Analysis \\n')\n",
    "        file.write('---------------------------- \\n')\n",
    "        file.write(f'Total Months: {total_months()} \\n')\n",
    "        file.write(f'Total: ${net_total()} \\n')\n",
    "        file.write(f'Average Change: ${avg_changes()} \\n')\n",
    "        file.write(f'Greatest Increase in Profits: {greatest_increase_in_profits()[0]} (${greatest_increase_in_profits()[1]}) \\n')\n",
    "        file.write(f'Greatest Decrease in Profits: {greatest_decrease_in_profits()[0]} (${greatest_decrease_in_profits()[1]})')\n"
   ]
  },
  {
   "cell_type": "code",
   "execution_count": 93,
   "metadata": {},
   "outputs": [
    {
     "name": "stdout",
     "output_type": "stream",
     "text": [
      "Financial Analysis\n",
      "----------------------------\n",
      "Total Months: 86\n",
      "Total: $38382578\n",
      "Average Change: $-2315.12\n",
      "Greatest Increase in Profits: Feb-2012 ($1926159)\n",
      "Greatest Decrease in Profits: Sep-2013 ($-2196167)\n"
     ]
    }
   ],
   "source": [
    "#create a function to run the script\n",
    "def run_pybank_script():\n",
    "    print_results()\n",
    "\n",
    "run_pybank_script()"
   ]
  }
 ],
 "metadata": {
  "kernelspec": {
   "display_name": "anaconda-2022.05-py39",
   "language": "python",
   "name": "conda-env-anaconda-2022.05-py39-py"
  },
  "language_info": {
   "codemirror_mode": {
    "name": "ipython",
    "version": 3
   },
   "file_extension": ".py",
   "mimetype": "text/x-python",
   "name": "python",
   "nbconvert_exporter": "python",
   "pygments_lexer": "ipython3",
   "version": "3.9.12"
  }
 },
 "nbformat": 4,
 "nbformat_minor": 4
}
